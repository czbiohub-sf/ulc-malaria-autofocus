{
 "cells": [
  {
   "cell_type": "code",
   "execution_count": null,
   "id": "856de871-53be-480b-81f1-ef29a81abb2c",
   "metadata": {},
   "outputs": [],
   "source": [
    "%load_ext autoreload\n",
    "%autoreload 2"
   ]
  },
  {
   "cell_type": "code",
   "execution_count": null,
   "id": "d8c0523a-4777-4152-a98a-04490a784710",
   "metadata": {},
   "outputs": [],
   "source": [
    "import torch\n",
    "import torch.nn as nn\n",
    "from torchvision.io import read_image\n",
    "from torch.utils.data import DataLoader\n",
    "from torchvision.transforms import Resize\n",
    "\n",
    "from nn_analysis import load_model_for_inference\n",
    "from dataloader import ImageFolderWithLabels, get_dataset, get_dataloader\n",
    "\n",
    "from collections import namedtuple\n",
    "\n",
    "import matplotlib.pyplot as plt"
   ]
  },
  {
   "cell_type": "markdown",
   "id": "419c8f42-9c4b-4e72-938b-af1d71319df3",
   "metadata": {},
   "source": [
    "# Lowest-loss images?\n",
    "\n",
    "Which images in the dataset have the lowest loss?\n",
    "\n",
    "Investigation using [efficient-donkey-47](https://wandb.ai/ajacobsen/ulc-malaria-autofocus/runs/3at65ww4?workspace=user-ajacobsen)"
   ]
  },
  {
   "cell_type": "code",
   "execution_count": null,
   "id": "3e58f366-94dc-4ec2-8867-d4a47b55f6bb",
   "metadata": {},
   "outputs": [],
   "source": [
    "# custom dataset\n",
    "\n",
    "class ImagesAndPaths(ImageFolderWithLabels):\n",
    "    def __getitem__(self, index):\n",
    "        path, target = self.samples[index]\n",
    "        sample = self.loader(path)\n",
    "        if self.transform is not None:\n",
    "            sample = self.transform(sample)\n",
    "        if self.target_transform is not None:\n",
    "            target = self.target_transform(target)\n",
    "\n",
    "        return (sample, target), path\n",
    "    \n",
    "full_dataset = ImagesAndPaths(\n",
    "    root = \"training_data\",\n",
    "    transform = Resize([150, 200]),\n",
    "    loader = read_image\n",
    ")\n",
    "\n",
    "dataloader = DataLoader(full_dataset, batch_size=1)"
   ]
  },
  {
   "cell_type": "code",
   "execution_count": null,
   "id": "a8236a32-1a3a-4304-b84c-1aa93b7fb433",
   "metadata": {},
   "outputs": [],
   "source": [
    "dev = torch.device(\"cuda\" if torch.cuda.is_available() else \"cpu\")\n",
    "net = load_model_for_inference(\"trained_models/efficient-donkey-final.pth\", dev=dev)\n",
    "\n",
    "L2 = nn.MSELoss().to(dev)"
   ]
  },
  {
   "cell_type": "code",
   "execution_count": null,
   "id": "04de9cf6-6760-4fa7-ba9c-b380ff230f80",
   "metadata": {},
   "outputs": [],
   "source": [
    "import time\n",
    "t0 = time.perf_counter()\n",
    "\n",
    "Res = namedtuple(\"Res\", [\"pred\", \"clss\", \"loss\"])\n",
    "path_to_res = dict()\n",
    "for i, data in enumerate(dataloader):\n",
    "    (img, clss), path = data\n",
    "    img.to(dev)\n",
    "    clss.to(dev)\n",
    "    \n",
    "    with torch.no_grad():\n",
    "        outputs = net(img).reshape(-1)\n",
    "        loss = L2(outputs, clss.float())\n",
    "        path_to_loss[path] = Res(outputs.item(), clss.item(), loss.item())\n",
    "\n",
    "    if i > 1000:\n",
    "        break\n",
    "\n",
    "time.perf_counter() - t0"
   ]
  },
  {
   "cell_type": "code",
   "execution_count": null,
   "id": "e1742eff-b351-43f5-9225-317ca64eea9a",
   "metadata": {},
   "outputs": [],
   "source": [
    "path_to_loss"
   ]
  }
 ],
 "metadata": {
  "kernelspec": {
   "display_name": "Python 3 (ipykernel)",
   "language": "python",
   "name": "python3"
  },
  "language_info": {
   "codemirror_mode": {
    "name": "ipython",
    "version": 3
   },
   "file_extension": ".py",
   "mimetype": "text/x-python",
   "name": "python",
   "nbconvert_exporter": "python",
   "pygments_lexer": "ipython3",
   "version": "3.10.4"
  }
 },
 "nbformat": 4,
 "nbformat_minor": 5
}
